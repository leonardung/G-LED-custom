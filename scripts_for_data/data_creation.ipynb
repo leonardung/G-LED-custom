{
 "cells": [
  {
   "cell_type": "code",
   "execution_count": 9,
   "id": "5ebbde18",
   "metadata": {},
   "outputs": [],
   "source": [
    "import numpy as np\n",
    "import matplotlib.pyplot as plt\n",
    "from matplotlib.animation import FuncAnimation\n",
    "from scipy.ndimage import gaussian_filter\n",
    "from tqdm import tqdm"
   ]
  },
  {
   "cell_type": "code",
   "execution_count": null,
   "id": "fbdf6b7e",
   "metadata": {},
   "outputs": [
    {
     "name": "stderr",
     "output_type": "stream",
     "text": [
      "  3%|▎         | 33/1000 [00:00<00:03, 288.96it/s]"
     ]
    },
    {
     "name": "stderr",
     "output_type": "stream",
     "text": [
      "100%|██████████| 1000/1000 [00:05<00:00, 170.40it/s]\n"
     ]
    }
   ],
   "source": [
    "# Parameters\n",
    "timesteps = 1000\n",
    "grid_size = 32  # Smaller size for better performance in 3D\n",
    "num_bubbles = 3\n",
    "min_radius, max_radius = 4, 4  # Minimum and maximum bubble radii\n",
    "blur_sigma = 1  # Standard deviation for Gaussian blur\n",
    "\n",
    "\n",
    "# Initialize bubble positions and directions in 3D\n",
    "def create_3d_bubble(\n",
    "    timesteps, grid_size, num_bubbles, min_radius, max_radius, blur_sigma=1\n",
    ")->np.ndarray:\n",
    "    bubble_positions = np.random.uniform(0, grid_size, (num_bubbles, 3))\n",
    "    bubble_directions = np.random.normal(0, 1, (num_bubbles, 3))\n",
    "    bubble_directions = bubble_directions / np.linalg.norm(\n",
    "        bubble_directions, axis=1, keepdims=True\n",
    "    )\n",
    "\n",
    "    # Initialize random velocities for each bubble\n",
    "    bubble_velocities = np.random.uniform(1, 2, (num_bubbles, 1))\n",
    "    bubble_directions *= bubble_velocities  # Scale directions by velocity\n",
    "\n",
    "    # Initialize bubble radii and growth parameters\n",
    "    bubble_sizes = np.random.uniform(min_radius, max_radius, num_bubbles)\n",
    "    bubble_growth_directions = np.random.choice([-1, 1], num_bubbles)\n",
    "    bubble_growth_rates = np.random.uniform(0.1, 0.3, num_bubbles)\n",
    "\n",
    "    # Initialize 3D flow\n",
    "    flow = np.zeros((timesteps, grid_size, grid_size, grid_size))\n",
    "\n",
    "    # Simulate the flow\n",
    "    for t in tqdm(range(timesteps)):\n",
    "        # Clear grid\n",
    "        grid = np.zeros((grid_size, grid_size, grid_size))\n",
    "\n",
    "        # Update bubble positions and enforce periodic boundary conditions\n",
    "        bubble_positions += bubble_directions\n",
    "        bubble_positions %= grid_size\n",
    "\n",
    "        # Update bubble sizes\n",
    "        for i in range(num_bubbles):\n",
    "            bubble_sizes[i] += bubble_growth_directions[i] * bubble_growth_rates[i]\n",
    "            if bubble_sizes[i] >= max_radius or bubble_sizes[i] <= min_radius:\n",
    "                bubble_growth_directions[i] *= -1  # Reverse growth direction\n",
    "\n",
    "        # Draw bubbles in the grid\n",
    "        for i, pos in enumerate(bubble_positions):\n",
    "            x, y, z = np.round(pos).astype(int)\n",
    "            radius = int(bubble_sizes[i])\n",
    "            for dx in range(-radius, radius + 1):\n",
    "                for dy in range(-radius, radius + 1):\n",
    "                    for dz in range(-radius, radius + 1):\n",
    "                        if dx**2 + dy**2 + dz**2 <= radius**2:\n",
    "                            nx, ny, nz = (\n",
    "                                (x + dx) % grid_size,\n",
    "                                (y + dy) % grid_size,\n",
    "                                (z + dz) % grid_size,\n",
    "                            )\n",
    "                            grid[nx, ny, nz] = 1\n",
    "\n",
    "        # Apply Gaussian blur\n",
    "        grid = gaussian_filter(grid, sigma=blur_sigma)\n",
    "\n",
    "        # Save grid to flow\n",
    "        flow[t] = grid\n",
    "    return flow\n",
    "\n",
    "\n",
    "new_flow = create_3d_bubble(timesteps, grid_size, num_bubbles, min_radius, max_radius, blur_sigma)\n",
    "np.save(\n",
    "    \"/home/l1148900/dns_project/G-LED-custom/data/3d_bubbles/bubble_0.npy\",\n",
    "    new_flow.astype(np.float16),\n",
    ")"
   ]
  },
  {
   "cell_type": "code",
   "execution_count": null,
   "id": "16c72708",
   "metadata": {},
   "outputs": [],
   "source": [
    "\n",
    "# Create a 3D visualization of the 3D flow\n",
    "fig = plt.figure(figsize=(8, 8))\n",
    "ax = fig.add_subplot(111, projection=\"3d\")\n",
    "ax.set_box_aspect([1, 1, 1])\n",
    "\n",
    "# Set fixed bounds for the plot\n",
    "ax.set_xlim(0, grid_size)\n",
    "ax.set_ylim(0, grid_size)\n",
    "ax.set_zlim(0, grid_size)\n",
    "\n",
    "# Initial frame\n",
    "def plot_frame(frame, ax):\n",
    "    ax.clear()\n",
    "    ax.set_title(f\"3D Flow Simulation: Timestep {frame}\")\n",
    "    ax.set_xlabel(\"X\")\n",
    "    ax.set_ylabel(\"Y\")\n",
    "    ax.set_zlabel(\"Z\")\n",
    "\n",
    "    # Set fixed bounds for consistency\n",
    "    ax.set_xlim(0, grid_size)\n",
    "    ax.set_ylim(0, grid_size)\n",
    "    ax.set_zlim(0, grid_size)\n",
    "\n",
    "    # Extract 3D grid for this timestep\n",
    "    grid = flow[frame]\n",
    "    x, y, z = np.nonzero(grid > 0.5)\n",
    "\n",
    "    # Plot the points\n",
    "    ax.scatter(x, y, z, c=grid[x, y, z], cmap=\"viridis\", marker=\"o\", alpha=0.8)\n",
    "\n",
    "# Animation function\n",
    "def update(frame):\n",
    "    plot_frame(frame, ax)\n",
    "    return [ax]\n",
    "\n",
    "ani = FuncAnimation(fig, update, frames=timesteps, interval=100, blit=False)\n",
    "\n",
    "video_path = \"3d_flow_simulation.mp4\"\n",
    "ani.save(video_path, writer=\"ffmpeg\", fps=10)\n",
    "plt.close(fig)\n",
    "\n",
    "print(f\"3D video with variable bubble radius saved at: {video_path}\")\n"
   ]
  },
  {
   "cell_type": "code",
   "execution_count": 68,
   "id": "5ef1709f",
   "metadata": {},
   "outputs": [],
   "source": [
    "# new_flow=np.stack([flow,flow], axis=1)\n",
    "new_flow=flow.reshape(flow.shape[0],1,*flow.shape[1:])\n",
    "np.save(\"/home/l1148900/dns_project/G-LED-custom/data/3d_bubbles/bubble_0.npy\", new_flow.astype(np.float16))\n",
    "np.save(\"/home/l1148900/dns_project/G-LED-custom/data/3d_bubbles/bubble_1.npy\", new_flow.astype(np.float16))\n",
    "np.save(\"/home/l1148900/dns_project/G-LED-custom/data/3d_bubbles/bubble_2.npy\", new_flow.astype(np.float16))"
   ]
  },
  {
   "cell_type": "code",
   "execution_count": 67,
   "id": "a9df921c",
   "metadata": {},
   "outputs": [
    {
     "data": {
      "text/plain": [
       "(1000, 1, 32, 32, 32)"
      ]
     },
     "execution_count": 67,
     "metadata": {},
     "output_type": "execute_result"
    }
   ],
   "source": [
    "# np.stack([flow,flow], axis=1).shape\n",
    "flow.reshape(flow.shape[0],1,*flow.shape[1:]).shape"
   ]
  },
  {
   "cell_type": "code",
   "execution_count": 44,
   "id": "26fc1ed6",
   "metadata": {},
   "outputs": [
    {
     "data": {
      "text/plain": [
       "(1000, 24, 24, 24, 1)"
      ]
     },
     "execution_count": 44,
     "metadata": {},
     "output_type": "execute_result"
    }
   ],
   "source": [
    "flow.reshape(*flow.shape,1).shape"
   ]
  }
 ],
 "metadata": {
  "kernelspec": {
   "display_name": "py311",
   "language": "python",
   "name": "python3"
  },
  "language_info": {
   "codemirror_mode": {
    "name": "ipython",
    "version": 3
   },
   "file_extension": ".py",
   "mimetype": "text/x-python",
   "name": "python",
   "nbconvert_exporter": "python",
   "pygments_lexer": "ipython3",
   "version": "3.11.11"
  }
 },
 "nbformat": 4,
 "nbformat_minor": 5
}
